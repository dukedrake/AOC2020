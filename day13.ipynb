{
 "cells": [
  {
   "cell_type": "code",
   "execution_count": null,
   "metadata": {},
   "outputs": [],
   "source": [
    "def parseInputPart1():\n",
    "    filepath = 'day13_input'\n",
    "    with open(filepath) as file:\n",
    "        lines = [line.rstrip().replace(',x', '') for line in file]\n",
    "    lines[1] = sorted(lines[1].split(','))\n",
    "    lines[0] = int(lines[0])\n",
    "    lines[1] = [int(x) for x in lines[1]]\n",
    "    return lines\n",
    "\n",
    "def parseInputPart2():\n",
    "    filepath = 'day13_input'\n",
    "    with open(filepath) as file:\n",
    "        lines = [line.rstrip() for line in file]\n",
    "    # idOrder = lines[1].split(',')\n",
    "    return lines\n",
    "\n",
    "lines = parseInputPart1()\n",
    "lines2 = parseInputPart2()\n",
    "\n"
   ]
  },
  {
   "cell_type": "markdown",
   "metadata": {},
   "source": [
    "# Part 1"
   ]
  },
  {
   "cell_type": "code",
   "execution_count": null,
   "metadata": {},
   "outputs": [],
   "source": [
    "def part1():\n",
    "    startMinute = lines[0]\n",
    "    busIds = lines[1]\n",
    "    \n",
    "    minBusId = 0\n",
    "    minPercId = 1.0\n",
    "    realPercId = .00\n",
    "    for busId in busIds:\n",
    "        curIdPerc = startMinute / busId - startMinute // busId\n",
    "        checkPerc = 1 - curIdPerc if curIdPerc > 0.5 else curIdPerc\n",
    "        if checkPerc < minPercId:\n",
    "            minPercId = checkPerc\n",
    "            realPercId = curIdPerc\n",
    "            minBusId = busId\n",
    "            \n",
    "    mutliplicator = startMinute // minBusId\n",
    "    if realPercId > 0.5:\n",
    "        mutliplicator += 1\n",
    "    print('multiplicator', mutliplicator, ', busid', minBusId, ', minutes after startminute', mutliplicator * minBusId - startMinute)\n",
    "    \n",
    "    return minBusId\n",
    "        \n",
    "result = part1()\n",
    "result\n",
    "\n",
    "# 280µs\n",
    "\n",
    "# n = 100\n",
    "# %time for i in range(n): part1()"
   ]
  },
  {
   "cell_type": "markdown",
   "metadata": {},
   "source": [
    "# Part 2"
   ]
  },
  {
   "cell_type": "code",
   "execution_count": null,
   "metadata": {
    "scrolled": true
   },
   "outputs": [],
   "source": [
    "# thanx to MischaDy ( https://github.com/MischaDy/PyAdventOfCode2020/blob/main/day%2013/day13_part2.py )\n",
    "from functools import reduce\n",
    "\n",
    "def part2():\n",
    "    inds_and_nums = [(ind, int(elem)) for ind, elem in enumerate(lines2[1].split(',')) if elem != 'x']\n",
    "    print (inds_and_nums)\n",
    "    \n",
    "    rests, divisors = [], []\n",
    "    for (ind, num) in inds_and_nums:\n",
    "        rests.append((-ind) % num)\n",
    "        divisors.append(num)\n",
    "\n",
    "    solution = chinese_remainder(rests, divisors)\n",
    "    return solution\n",
    "    \n",
    "\n",
    "# n = 10000\n",
    "# %time for i in range(n): part2()\n",
    "print(part2())\n",
    "\n",
    "\n",
    "\n",
    "\n",
    "def chinese_remainder(remainders, divisors):\n",
    "    M = prod(divisors)\n",
    "    as_ = list(map(lambda d: int(M / d), divisors))\n",
    "    eea_results = map(lambda tup: extended_gcd(*tup), zip(as_, divisors))\n",
    "    is_ = [result[0] % div for result, div in zip(eea_results, divisors)]\n",
    "    Z = sum(map(prod, zip(is_, remainders, as_)))\n",
    "    x = Z % M\n",
    "    return x\n",
    "\n",
    "\n",
    "def prod(nums):\n",
    "    return reduce(lambda a, b: a * b, nums, 1)\n",
    "\n",
    "# greatest common divisor\n",
    "def extended_gcd(a, b):\n",
    "    # EEA\n",
    "    old_r, r = a, b\n",
    "    old_s, s = 1, 0\n",
    "    old_t, t = 0, 1\n",
    "\n",
    "    while r != 0:\n",
    "        quotient = old_r // r\n",
    "        old_r, r = r, old_r - quotient * r\n",
    "        old_s, s = s, old_s - quotient * s\n",
    "        old_t, t = t, old_t - quotient * t\n",
    "\n",
    "    # return Bezout coefficient 1, 2, and the gcd\n",
    "    return old_s, old_t, old_r\n"
   ]
  },
  {
   "cell_type": "code",
   "execution_count": null,
   "metadata": {},
   "outputs": [],
   "source": [
    "def primes(n):\n",
    "    primfac = []\n",
    "    d = 2\n",
    "    while d*d <= n:\n",
    "        while (n % d) == 0:\n",
    "            primfac.append(d)  # supposing you want multiple factors repeated\n",
    "            n //= d\n",
    "        d += 1\n",
    "    if n > 1:\n",
    "        primfac.append(n)\n",
    "    return primfac"
   ]
  }
 ],
 "metadata": {
  "kernelspec": {
   "display_name": "Python 3",
   "language": "python",
   "name": "python3"
  },
  "language_info": {
   "codemirror_mode": {
    "name": "ipython",
    "version": 3
   },
   "file_extension": ".py",
   "mimetype": "text/x-python",
   "name": "python",
   "nbconvert_exporter": "python",
   "pygments_lexer": "ipython3",
   "version": "3.7.9"
  }
 },
 "nbformat": 4,
 "nbformat_minor": 2
}
