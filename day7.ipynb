{
 "cells": [
  {
   "cell_type": "code",
   "execution_count": null,
   "metadata": {},
   "outputs": [],
   "source": [
    "import re\n",
    "def parseInput():\n",
    "    filepath = 'day7_input'\n",
    "    with open(filepath) as file:\n",
    "        bagLineRules = [line.rstrip() for line in file]\n",
    "\n",
    "        allRuleParts = [ re.split(\" bags contain | bag[s]?, |([0-9]) | bag[s]?.\", x) for x in bagLineRules ]\n",
    "        allRuleDict = {}\n",
    "        for curRule in allRuleParts:\n",
    "            curRule = [x for x in curRule if x]\n",
    "            allRuleDict[curRule[0]] = curRule[1:]\n",
    "            print(allRuleDict[curRule[0]])\n",
    "    return allRuleDict\n",
    "\n",
    "bagLineRules = parseInput()"
   ]
  },
  {
   "cell_type": "markdown",
   "metadata": {},
   "source": [
    "# Part 1"
   ]
  },
  {
   "cell_type": "code",
   "execution_count": null,
   "metadata": {},
   "outputs": [],
   "source": [
    "def recBagSearch(colorName):\n",
    "    for bagRuleKey in bagLineRules:\n",
    "        if colorName in bagLineRules[bagRuleKey]:\n",
    "            # print(bagRuleKey, '[',colorName,'] in: ', bagLineRules[bagRuleKey])\n",
    "            allGoldContainers.add(bagRuleKey)\n",
    "            recBagSearch(bagRuleKey)\n",
    "            \n",
    "allGoldContainers = set()\n",
    "recBagSearch('shiny gold')\n",
    "print(len(allGoldContainers))\n",
    "print(allGoldContainers)"
   ]
  },
  {
   "cell_type": "markdown",
   "metadata": {},
   "source": [
    "# Part 2"
   ]
  },
  {
   "cell_type": "code",
   "execution_count": null,
   "metadata": {},
   "outputs": [],
   "source": [
    "def recBagSearchForGold(colorName, multiplier):\n",
    "    if bagLineRules[colorName][0] != 'no other':\n",
    "        bagNoRaw.append((colorName,bagLineRules[colorName]))\n",
    "        counter = 1\n",
    "        currentBags = multiplier\n",
    "        while counter < len(bagLineRules[colorName]):\n",
    "            nextMulti = multiplier * int(bagLineRules[colorName][counter-1])\n",
    "            currentBags += recBagSearchForGold(bagLineRules[colorName][counter], nextMulti)\n",
    "            counter += 2\n",
    "        return currentBags\n",
    "    else:\n",
    "        return multiplier\n",
    "    \n",
    "totalBagNo = 0\n",
    "bagNoRaw = []\n",
    "totalBagNo = recBagSearchForGold('shiny gold', 1)\n",
    "\n",
    "print(\"total bags: \",totalBagNo-1)\n",
    "# print(len(bagNoRaw))\n"
   ]
  }
 ],
 "metadata": {
  "kernelspec": {
   "display_name": "Python 3",
   "language": "python",
   "name": "python3"
  },
  "language_info": {
   "codemirror_mode": {
    "name": "ipython",
    "version": 3
   },
   "file_extension": ".py",
   "mimetype": "text/x-python",
   "name": "python",
   "nbconvert_exporter": "python",
   "pygments_lexer": "ipython3",
   "version": "3.7.9"
  }
 },
 "nbformat": 4,
 "nbformat_minor": 2
}
