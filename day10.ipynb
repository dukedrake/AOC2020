{
 "cells": [
  {
   "cell_type": "code",
   "execution_count": null,
   "metadata": {},
   "outputs": [],
   "source": [
    "def parseInput():\n",
    "    filepath = 'day10_input'\n",
    "    with open(filepath) as file:\n",
    "        allNums = [int(line.rstrip()) for line in file]\n",
    "    return allNums\n",
    "\n",
    "allJolts = parseInput()"
   ]
  },
  {
   "cell_type": "markdown",
   "metadata": {},
   "source": [
    "# Part 1"
   ]
  },
  {
   "cell_type": "code",
   "execution_count": null,
   "metadata": {},
   "outputs": [],
   "source": [
    "def part1():\n",
    "    num1s = 0\n",
    "    num3s = 1\n",
    "    curDiff = 0\n",
    "    lastDiff = 0\n",
    "    s1t3 = 0\n",
    "    s3t1 = 0\n",
    "    curJoltTest = 0\n",
    "    while curJoltTest < max(allJolts):\n",
    "        if curJoltTest in allJolts:\n",
    "            num1s += 1 if curDiff == 1 else 0\n",
    "            num3s += 1 if curDiff == 3 else 0\n",
    "            \n",
    "            # also count changes from 3-gap series to 1 and vice versa\n",
    "            if curDiff == 1 and lastDiff == 3:\n",
    "                lastDiff = 1\n",
    "                s3t1 += 1\n",
    "            if curDiff == 3 and lastDiff == 1:\n",
    "                lastDiff = 3\n",
    "                s1t3 += 1\n",
    "            if lastDiff == 0:\n",
    "                lastDiff = curDiff\n",
    "            curDiff = 0\n",
    "        curDiff += 1\n",
    "        curJoltTest += 1\n",
    "    num1s += 1 if curDiff == 1 else 0\n",
    "    num3s += 1 if curDiff == 3 else 0\n",
    "    \n",
    "    print(num1s)\n",
    "    print(num3s)\n",
    "    print(num1s*num3s)\n",
    "    print('')\n",
    "    print(s1t3,s3t1)\n",
    "        \n",
    "part1()\n",
    "\n",
    "#n = 10000\n",
    "#%time for i in range(n): part1()"
   ]
  },
  {
   "cell_type": "markdown",
   "metadata": {},
   "source": [
    "# Part 2"
   ]
  },
  {
   "cell_type": "code",
   "execution_count": null,
   "metadata": {},
   "outputs": [],
   "source": [
    "# credit to https://github.com/VictiniX888\n",
    "# adapted from kotlin\n",
    "def countArrangementsDP(adapters):\n",
    "    cache = {}\n",
    "\n",
    "    adaptersDescending = sorted(adapters, reverse=True)\n",
    "    \n",
    "    cache[adaptersDescending[0]] = 1\n",
    "    adaptersDescending.pop(0)\n",
    "    for jolts in adaptersDescending:\n",
    "        arrangements = 0\n",
    "        for i in range(jolts+1,jolts+4):\n",
    "            arrangements += cache[i] if i in cache else 0\n",
    "        cache[jolts] = arrangements\n",
    "    return cache[0]\n",
    "\n",
    "# result = countArrangementsDP(allJolts)\n",
    "# print(result)\n",
    "allJolts.append(0)\n",
    "n = 10000\n",
    "%time for i in range(n): countArrangementsDP(allJolts)\n"
   ]
  },
  {
   "cell_type": "code",
   "execution_count": null,
   "metadata": {},
   "outputs": [],
   "source": [
    "def print_factors(x):\n",
    "    print(\"The factors of\",x,\"are:\")\n",
    "    for i in range(1, x + 1):\n",
    "        if x % i == 0:\n",
    "            print(i)\n",
    "\n",
    "def primes(n):\n",
    "    primfac = []\n",
    "    d = 2\n",
    "    while d*d <= n:\n",
    "        while (n % d) == 0:\n",
    "            primfac.append(d)  # supposing you want multiple factors repeated\n",
    "            n //= d\n",
    "        d += 1\n",
    "    if n > 1:\n",
    "       primfac.append(n)\n",
    "    return primfac\n",
    "            \n",
    "primes(19208)\n",
    "# 453551299002368 = 2^15 * 7^12"
   ]
  }
 ],
 "metadata": {
  "kernelspec": {
   "display_name": "Python 3",
   "language": "python",
   "name": "python3"
  },
  "language_info": {
   "codemirror_mode": {
    "name": "ipython",
    "version": 3
   },
   "file_extension": ".py",
   "mimetype": "text/x-python",
   "name": "python",
   "nbconvert_exporter": "python",
   "pygments_lexer": "ipython3",
   "version": "3.7.9"
  }
 },
 "nbformat": 4,
 "nbformat_minor": 2
}
