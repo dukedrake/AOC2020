{
 "cells": [
  {
   "cell_type": "markdown",
   "metadata": {},
   "source": [
    "# Part 1 + 2"
   ]
  },
  {
   "cell_type": "code",
   "execution_count": null,
   "metadata": {},
   "outputs": [],
   "source": [
    "def memory():\n",
    "    memoryList = [2,15,0,9,1,20]\n",
    "    turnCounter = len(memoryList)-1\n",
    "    lastTurnSeen = {}\n",
    "    \n",
    "    iniTurnCounter = 1\n",
    "    for t in memoryList:\n",
    "        lastTurnSeen[t] = iniTurnCounter\n",
    "        iniTurnCounter += 1\n",
    "    \n",
    "    while True:\n",
    "        lns = memoryList[turnCounter]\n",
    "        turnCounter += 1\n",
    "        if lns not in lastTurnSeen:\n",
    "            memoryList.append(0)\n",
    "            lastTurnSeen[lns] = turnCounter\n",
    "        else:\n",
    "            nextNumber = turnCounter - lastTurnSeen[lns]\n",
    "            lastTurnSeen[lns] = turnCounter\n",
    "            memoryList.append(nextNumber)\n",
    "        \n",
    "        # part 1\n",
    "        # if turnCounter > 2019:\n",
    "        # part 2\n",
    "        if turnCounter > 29999999:\n",
    "            break\n",
    "    \n",
    "    return memoryList\n",
    "        \n",
    "        \n",
    "%time result = memory()\n",
    "print(result[len(result)-2])\n",
    "\n",
    "# n = 1000\n",
    "# %time for i in range(n): memory()"
   ]
  }
 ],
 "metadata": {
  "kernelspec": {
   "display_name": "Python 3",
   "language": "python",
   "name": "python3"
  },
  "language_info": {
   "codemirror_mode": {
    "name": "ipython",
    "version": 3
   },
   "file_extension": ".py",
   "mimetype": "text/x-python",
   "name": "python",
   "nbconvert_exporter": "python",
   "pygments_lexer": "ipython3",
   "version": "3.7.9"
  }
 },
 "nbformat": 4,
 "nbformat_minor": 2
}
