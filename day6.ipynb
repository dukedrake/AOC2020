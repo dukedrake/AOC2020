{
 "cells": [
  {
   "cell_type": "code",
   "execution_count": null,
   "metadata": {},
   "outputs": [],
   "source": [
    "def parseInput_part1():\n",
    "    filepath = 'day6_input'\n",
    "    with open(filepath) as file:\n",
    "        customLines = [line.rstrip() for line in file]\n",
    "        \n",
    "    customEntries = []\n",
    "    curCustomEntry = set()\n",
    "    for customLine in customLines:\n",
    "        if not customLine:\n",
    "            customEntries.append(curCustomEntry)\n",
    "            curCustomEntry = set()\n",
    "        else:\n",
    "            allCurAnswers = set(list(customLine))\n",
    "            curCustomEntry.update(allCurAnswers)\n",
    "    customEntries.append(curCustomEntry)\n",
    "    return customEntries\n",
    "        \n",
    "\n",
    "def parseInput_part2():\n",
    "    filepath = 'day6_input'\n",
    "    with open(filepath) as file:\n",
    "        customLines = [line.rstrip() for line in file]\n",
    "    return customLines\n",
    "\n",
    "customEntries = parseInput_part1()\n",
    "rawCustomLines = parseInput_part2()"
   ]
  },
  {
   "cell_type": "markdown",
   "metadata": {},
   "source": [
    "# Part 1"
   ]
  },
  {
   "cell_type": "code",
   "execution_count": null,
   "metadata": {},
   "outputs": [],
   "source": [
    "from functools import reduce\n",
    "answerSum = reduce(lambda x,y: x + len(y), customEntries, 0)\n",
    "answerSum"
   ]
  },
  {
   "cell_type": "markdown",
   "metadata": {},
   "source": [
    "# Part 2"
   ]
  },
  {
   "cell_type": "code",
   "execution_count": null,
   "metadata": {},
   "outputs": [],
   "source": [
    "intersectionEntries = []\n",
    "curCustomEntry = set(list(rawCustomLines[0]))\n",
    "lineCounter = 1\n",
    "while lineCounter < len(rawCustomLines):\n",
    "    customLine = set(list(rawCustomLines[lineCounter]))\n",
    "    if not customLine:\n",
    "        intersectionEntries.append(curCustomEntry)\n",
    "        lineCounter += 1\n",
    "        curCustomEntry = set(list(rawCustomLines[lineCounter]))\n",
    "    else:\n",
    "        curCustomEntry = curCustomEntry.intersection(customLine)           \n",
    "    lineCounter += 1\n",
    "\n",
    "intersectionEntries.append(curCustomEntry)\n",
    "interAnswerSum = reduce(lambda x,y: x + len(y), intersectionEntries, 0)\n",
    "interAnswerSum"
   ]
  }
 ],
 "metadata": {
  "kernelspec": {
   "display_name": "Python 3",
   "language": "python",
   "name": "python3"
  },
  "language_info": {
   "codemirror_mode": {
    "name": "ipython",
    "version": 3
   },
   "file_extension": ".py",
   "mimetype": "text/x-python",
   "name": "python",
   "nbconvert_exporter": "python",
   "pygments_lexer": "ipython3",
   "version": "3.7.9"
  }
 },
 "nbformat": 4,
 "nbformat_minor": 2
}
