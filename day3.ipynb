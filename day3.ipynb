{
 "cells": [
  {
   "cell_type": "code",
   "execution_count": null,
   "metadata": {},
   "outputs": [],
   "source": [
    "import re\n",
    "def parseInput():\n",
    "    filepath = 'day3_input'\n",
    "    origTreeLines = []\n",
    "    treeLines = []\n",
    "    with open(filepath) as file:\n",
    "        treeLines = [line.rstrip() for line in file]\n",
    "    origTreeLines = treeLines.copy()\n",
    "    while len(treeLines[0]) < 10*len(treeLines):\n",
    "        treeLines = [ treeLines[ind]+x for ind, x in enumerate(origTreeLines) ]\n",
    "    return treeLines\n",
    "\n",
    "treeLines = parseInput()"
   ]
  },
  {
   "cell_type": "markdown",
   "metadata": {},
   "source": [
    "# Part 1"
   ]
  },
  {
   "cell_type": "code",
   "execution_count": null,
   "metadata": {},
   "outputs": [],
   "source": [
    "numTrees = 0\n",
    "cindex = 0\n",
    "for treeLine in treeLines:\n",
    "    numTrees += 1 if treeLine[cindex] == '#' else 0\n",
    "    cindex += 3\n",
    "print(numTrees)\n",
    "\n"
   ]
  },
  {
   "cell_type": "markdown",
   "metadata": {},
   "source": [
    "# Part 2"
   ]
  },
  {
   "cell_type": "code",
   "execution_count": null,
   "metadata": {},
   "outputs": [],
   "source": [
    "import functools\n",
    "toboSlopes = [1,3,5,7,1]\n",
    "curXProgress = [0,0,0,0,0]\n",
    "numTrees = [0,0,0,0,0]\n",
    "lineCounter = 0;\n",
    "while lineCounter < len(treeLines):\n",
    "    treeLine = treeLines[lineCounter]\n",
    "    colCounter = 0\n",
    "    while colCounter < len(toboSlopes):\n",
    "        if colCounter == 4 and (lineCounter % 2 == 1):\n",
    "            break\n",
    "        numTrees[colCounter] += 1 if treeLine[curXProgress[colCounter]] == '#' else 0\n",
    "        curXProgress[colCounter] += toboSlopes[colCounter]\n",
    "        colCounter += 1\n",
    "    lineCounter += 1\n",
    " \n",
    "print (functools.reduce(lambda a,b : a*b,numTrees)) "
   ]
  },
  {
   "cell_type": "code",
   "execution_count": null,
   "metadata": {},
   "outputs": [],
   "source": []
  }
 ],
 "metadata": {
  "kernelspec": {
   "display_name": "Python 3",
   "language": "python",
   "name": "python3"
  },
  "language_info": {
   "codemirror_mode": {
    "name": "ipython",
    "version": 3
   },
   "file_extension": ".py",
   "mimetype": "text/x-python",
   "name": "python",
   "nbconvert_exporter": "python",
   "pygments_lexer": "ipython3",
   "version": "3.7.9"
  }
 },
 "nbformat": 4,
 "nbformat_minor": 2
}
