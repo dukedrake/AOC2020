{
 "cells": [
  {
   "cell_type": "code",
   "execution_count": null,
   "metadata": {},
   "outputs": [],
   "source": [
    "import re\n",
    "def parseInput():\n",
    "    filepath = 'day2_input'\n",
    "    allParts = []\n",
    "    with open(filepath) as file:\n",
    "        data = [line.rstrip() for line in file]\n",
    "        allParts = [ re.split(\"-|: | \", x) for x in data ]\n",
    "    return allParts\n",
    "\n",
    "passEntries = parseInput()"
   ]
  },
  {
   "cell_type": "markdown",
   "metadata": {},
   "source": [
    "# Part 1"
   ]
  },
  {
   "cell_type": "code",
   "execution_count": null,
   "metadata": {},
   "outputs": [],
   "source": [
    "# oh ... it's not about _repeated_ letters then, is it? -.-\n",
    "def checkPass(passEntry):\n",
    "    passEntryCheck = re.split(passEntry[2] + '{' + passEntry[0] + ',' + passEntry[1] + '}', passEntry[3])\n",
    "    return len(passEntryCheck)-1\n",
    "    "
   ]
  },
  {
   "cell_type": "code",
   "execution_count": null,
   "metadata": {},
   "outputs": [],
   "source": [
    "res = [ x[3].count(x[2]) for x in passEntries if x[3].count(x[2]) >= int(x[0]) and x[3].count(x[2]) <= int(x[1]) ]\n",
    "print(len(res))"
   ]
  },
  {
   "cell_type": "markdown",
   "metadata": {},
   "source": [
    "# Part 2"
   ]
  },
  {
   "cell_type": "code",
   "execution_count": null,
   "metadata": {},
   "outputs": [],
   "source": [
    "res = [ x[3] for x in passEntries if (x[3][int(x[0])-1] == x[2] or x[3][int(x[1])-1] == x[2]) and not(x[3][int(x[0])-1] == x[2] and x[3][int(x[1])-1] == x[2]) ]\n",
    "print(len(res))"
   ]
  },
  {
   "cell_type": "code",
   "execution_count": null,
   "metadata": {},
   "outputs": [],
   "source": []
  }
 ],
 "metadata": {
  "kernelspec": {
   "display_name": "Python 3",
   "language": "python",
   "name": "python3"
  },
  "language_info": {
   "codemirror_mode": {
    "name": "ipython",
    "version": 3
   },
   "file_extension": ".py",
   "mimetype": "text/x-python",
   "name": "python",
   "nbconvert_exporter": "python",
   "pygments_lexer": "ipython3",
   "version": "3.8.5"
  }
 },
 "nbformat": 4,
 "nbformat_minor": 2
}
