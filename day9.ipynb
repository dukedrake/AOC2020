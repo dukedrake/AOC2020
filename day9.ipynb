{
 "cells": [
  {
   "cell_type": "code",
   "execution_count": null,
   "metadata": {},
   "outputs": [],
   "source": [
    "def parseInput():\n",
    "    filepath = 'day9_input'\n",
    "    with open(filepath) as file:\n",
    "        allNums = [int(line.rstrip()) for line in file]\n",
    "    return allNums\n",
    "\n",
    "allNums = parseInput()"
   ]
  },
  {
   "cell_type": "markdown",
   "metadata": {},
   "source": [
    "# Part 1"
   ]
  },
  {
   "cell_type": "code",
   "execution_count": null,
   "metadata": {},
   "outputs": [],
   "source": [
    "cur25 = allNums[:25]\n",
    "curIndex = 25\n",
    "while curIndex < len(allNums):\n",
    "    curCheckNum = allNums[curIndex]\n",
    "    cand1Counter = 0\n",
    "    foundSum = False\n",
    "    while cand1Counter < len(cur25):\n",
    "        cand1 = cur25[cand1Counter]\n",
    "        cand2 = curCheckNum - cand1\n",
    "        if cand2 in cur25 and cand1 != cand2:\n",
    "            foundSum = True\n",
    "            break\n",
    "        cand1Counter += 1\n",
    "    if not foundSum:\n",
    "        print(\"couldn't find sum for:\",curCheckNum, 'at',curIndex)\n",
    "        break\n",
    "    cur25.pop(0)\n",
    "    cur25.append(curCheckNum)\n",
    "    curIndex += 1"
   ]
  },
  {
   "cell_type": "markdown",
   "metadata": {},
   "source": [
    "# Part 2"
   ]
  },
  {
   "cell_type": "code",
   "execution_count": null,
   "metadata": {},
   "outputs": [],
   "source": [
    "firstIndex = 0\n",
    "lastIndex = 0\n",
    "curSum = 0\n",
    "while lastIndex < len(allNums):\n",
    "    if curSum < curCheckNum:\n",
    "        curSum += allNums[lastIndex]\n",
    "    elif curSum > curCheckNum:\n",
    "        curSum -= allNums[firstIndex]\n",
    "        firstIndex += 1\n",
    "        lastIndex -= 1\n",
    "    else:\n",
    "        break\n",
    "    lastIndex += 1\n",
    "\n",
    "min = curCheckNum\n",
    "max = 0\n",
    "tempSum = 0\n",
    "while firstIndex < lastIndex:\n",
    "    min = allNums[firstIndex] if allNums[firstIndex] < min else min\n",
    "    max = allNums[firstIndex] if allNums[firstIndex] > max else max\n",
    "    firstIndex += 1\n",
    "    \n",
    "print(min+max)"
   ]
  }
 ],
 "metadata": {
  "kernelspec": {
   "display_name": "Python 3",
   "language": "python",
   "name": "python3"
  },
  "language_info": {
   "codemirror_mode": {
    "name": "ipython",
    "version": 3
   },
   "file_extension": ".py",
   "mimetype": "text/x-python",
   "name": "python",
   "nbconvert_exporter": "python",
   "pygments_lexer": "ipython3",
   "version": "3.7.9"
  }
 },
 "nbformat": 4,
 "nbformat_minor": 2
}
