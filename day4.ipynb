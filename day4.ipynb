{
 "cells": [
  {
   "cell_type": "code",
   "execution_count": null,
   "metadata": {},
   "outputs": [],
   "source": [
    "def parseInput():\n",
    "    filepath = 'day4_input'\n",
    "    passLines = []\n",
    "    with open(filepath) as file:\n",
    "        passLines = [line.rstrip() for line in file]\n",
    "        \n",
    "    passEntries = []\n",
    "    curPassEntry = []\n",
    "    for passLine in passLines:\n",
    "        if not passLine:\n",
    "            passEntries.append(curPassEntry)\n",
    "            curPassEntry = []\n",
    "        else:\n",
    "            allParts = passLine.split(\" \")\n",
    "            for a in allParts:\n",
    "                # part #1\n",
    "                # curPassEntry.append(a.split(':')[0])\n",
    "                \n",
    "                # part #2\n",
    "                curPassEntry.append(a.split(':'))\n",
    "    passEntries.append(curPassEntry)\n",
    "    return passEntries\n",
    "\n",
    "passEntries = parseInput()\n"
   ]
  },
  {
   "cell_type": "markdown",
   "metadata": {},
   "source": [
    "# Part 1"
   ]
  },
  {
   "cell_type": "code",
   "execution_count": null,
   "metadata": {},
   "outputs": [],
   "source": [
    "valEntries = []\n",
    "valEntriesWithCID = []\n",
    "invalidEntries = []\n",
    "mandatoryFields = ['iyr', 'ecl', 'hgt', 'pid', 'byr', 'hcl', 'eyr']\n",
    "\n",
    "counter = 0\n",
    "while counter < len(passEntries):\n",
    "    passPortValid = True\n",
    "    for manField in mandatoryFields:\n",
    "        if manField not in passEntries[counter]:\n",
    "            passPortValid = False\n",
    "            break\n",
    "    if passPortValid:\n",
    "        valEntries.append(counter)\n",
    "        # check optional cid-field\n",
    "        if \"cid\" in passEntries[counter]:\n",
    "            valEntriesWithCID.append(counter)\n",
    "    counter += 1\n",
    "    \n",
    "print(len(passEntries))\n",
    "print(len(valEntries))\n",
    "print(len(valEntriesWithCID))\n"
   ]
  },
  {
   "cell_type": "markdown",
   "metadata": {},
   "source": [
    "# Part 2"
   ]
  },
  {
   "cell_type": "code",
   "execution_count": null,
   "metadata": {},
   "outputs": [],
   "source": [
    "def checkNumberBase(num, base):\n",
    "    try:\n",
    "        int(num, base)\n",
    "        return True\n",
    "    except (ValueError, TypeError):\n",
    "        return False\n",
    "\n",
    "eyecolors = ['amb','blu','brn','gry','grn','hzl','oth']\n",
    "\n",
    "validValidEntries = []\n",
    "for curEntryId in valEntries:\n",
    "    curEntry = passEntries[curEntryId]\n",
    "    \n",
    "    entryValid = True\n",
    "    for field in curEntry:\n",
    "        result = {\n",
    "            'byr': lambda x: int(x) > 1919 and int(x) < 2003,\n",
    "            'iyr': lambda x: int(x) > 2009 and int(x) < 2021,\n",
    "            'eyr': lambda x: int(x) > 2019 and int(x) < 2031,\n",
    "            'hgt': lambda x: (x[-2:] == 'in' and int(x[0:-2]) > 58 and int(x[0:-2]) < 77) or (x[-2:] == 'cm' and int(x[0:-2]) > 149 and int(x[0:-2]) < 194),\n",
    "            'hcl': lambda x: len(x) == 7 and checkNumberBase(x[1:], 16),\n",
    "            'ecl': lambda x: x in eyecolors,\n",
    "            'pid': lambda x: len(x) == 9 and checkNumberBase(x, 10),\n",
    "            'cid': lambda x: True\n",
    "        }[field[0]](field[1])\n",
    "        \n",
    "        if not result:\n",
    "            entryValid = False\n",
    "            break\n",
    "    if entryValid:\n",
    "        validValidEntries.append(curEntryId)\n",
    "\n",
    "print(len(validValidEntries))\n"
   ]
  },
  {
   "cell_type": "code",
   "execution_count": null,
   "metadata": {},
   "outputs": [],
   "source": []
  }
 ],
 "metadata": {
  "kernelspec": {
   "display_name": "Python 3",
   "language": "python",
   "name": "python3"
  },
  "language_info": {
   "codemirror_mode": {
    "name": "ipython",
    "version": 3
   },
   "file_extension": ".py",
   "mimetype": "text/x-python",
   "name": "python",
   "nbconvert_exporter": "python",
   "pygments_lexer": "ipython3",
   "version": "3.7.9"
  }
 },
 "nbformat": 4,
 "nbformat_minor": 2
}
