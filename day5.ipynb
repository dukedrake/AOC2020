{
 "cells": [
  {
   "cell_type": "code",
   "execution_count": null,
   "metadata": {},
   "outputs": [],
   "source": [
    "def parseInput():\n",
    "    filepath = 'day5_input'\n",
    "    with open(filepath) as file:\n",
    "        planeSeatLines = [line.rstrip() for line in file]\n",
    "    return planeSeatLines\n",
    "\n",
    "planeSeats = parseInput()"
   ]
  },
  {
   "cell_type": "markdown",
   "metadata": {},
   "source": [
    "# Part 1"
   ]
  },
  {
   "cell_type": "code",
   "execution_count": null,
   "metadata": {},
   "outputs": [],
   "source": [
    "maxSeatId = 0\n",
    "minSeatId = 1000\n",
    "delimiter = ''\n",
    "idList = []\n",
    "\n",
    "for planeSeat in planeSeats:\n",
    "    planeSeat = delimiter.join(map(lambda x: '1' if x == 'B' or x == 'R' else '0', planeSeat))\n",
    "    planeSeat = ( int(planeSeat[:7],2), int(planeSeat[7:],2))\n",
    "    curId = planeSeat[0]*8 + planeSeat[1]\n",
    "    maxSeatId = curId if curId > maxSeatId else maxSeatId\n",
    "    minSeatId = curId if curId < minSeatId else minSeatId\n",
    "    idList.append(curId)\n",
    "\n",
    "print(maxSeatId)    "
   ]
  },
  {
   "cell_type": "markdown",
   "metadata": {},
   "source": [
    "# Part 2"
   ]
  },
  {
   "cell_type": "code",
   "execution_count": null,
   "metadata": {},
   "outputs": [],
   "source": [
    "idList = sorted(idList)\n",
    "counter = minSeatId\n",
    "while counter in idList:\n",
    "    counter += 1\n",
    "    \n",
    "print (counter)"
   ]
  }
 ],
 "metadata": {
  "kernelspec": {
   "display_name": "Python 3",
   "language": "python",
   "name": "python3"
  },
  "language_info": {
   "codemirror_mode": {
    "name": "ipython",
    "version": 3
   },
   "file_extension": ".py",
   "mimetype": "text/x-python",
   "name": "python",
   "nbconvert_exporter": "python",
   "pygments_lexer": "ipython3",
   "version": "3.7.9"
  }
 },
 "nbformat": 4,
 "nbformat_minor": 2
}
