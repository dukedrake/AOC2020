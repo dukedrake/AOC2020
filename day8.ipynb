{
 "cells": [
  {
   "cell_type": "code",
   "execution_count": null,
   "metadata": {},
   "outputs": [],
   "source": [
    "def parseInput():\n",
    "    filepath = 'day8_input'\n",
    "    with open(filepath) as file:\n",
    "        instructions = [line.rstrip() for line in file]\n",
    "        allInst = [ x.split(\" \") for x in instructions ]\n",
    "    return allInst\n",
    "\n",
    "bootProg = parseInput()\n",
    "print(bootProg)"
   ]
  },
  {
   "cell_type": "markdown",
   "metadata": {},
   "source": [
    "# Part 1"
   ]
  },
  {
   "cell_type": "code",
   "execution_count": null,
   "metadata": {},
   "outputs": [],
   "source": [
    "accumulator = 0\n",
    "ip = 0\n",
    "visitedAddresses = []\n",
    "while ip < len(bootProg):\n",
    "    if not ip in visitedAddresses:\n",
    "        visitedAddresses.append(ip)\n",
    "    else:\n",
    "        print('found loop \\n', accumulator)\n",
    "        break\n",
    "\n",
    "    curInst = bootProg[ip]\n",
    "    if curInst[0] == 'acc':\n",
    "        accumulator += int(curInst[1])\n",
    "        \n",
    "    if curInst[0] == 'jmp':\n",
    "        ip += int(curInst[1])\n",
    "    else:\n",
    "        ip += 1"
   ]
  },
  {
   "cell_type": "markdown",
   "metadata": {},
   "source": [
    "# Part 2"
   ]
  },
  {
   "cell_type": "code",
   "execution_count": null,
   "metadata": {},
   "outputs": [],
   "source": [
    "def executeProg():\n",
    "    accumulator = 0\n",
    "    ip = 0\n",
    "    visitedAddresses = []\n",
    "    while ip < len(bootProg):\n",
    "        if not ip in visitedAddresses:\n",
    "            visitedAddresses.append(ip)\n",
    "        else:\n",
    "            break\n",
    "\n",
    "        curInst = bootProg[ip]\n",
    "        if curInst[0] == 'acc':\n",
    "            accumulator += int(curInst[1])\n",
    "\n",
    "        if curInst[0] == 'jmp':\n",
    "            ip += int(curInst[1])\n",
    "        else:\n",
    "            ip += 1\n",
    "\n",
    "    if ip >= len(bootProg):\n",
    "        print('Done! ', accumulator)\n",
    "\n",
    "        \n",
    "for instruction in bootProg:\n",
    "    if instruction[0] == 'nop':\n",
    "        instruction[0] = 'jmp'\n",
    "        executeProg()\n",
    "        instruction[0] = 'nop'\n",
    "    elif instruction[0] == 'jmp':\n",
    "        instruction[0] = 'nop'\n",
    "        executeProg()\n",
    "        instruction[0] = 'jmp'"
   ]
  }
 ],
 "metadata": {
  "kernelspec": {
   "display_name": "Python 3",
   "language": "python",
   "name": "python3"
  },
  "language_info": {
   "codemirror_mode": {
    "name": "ipython",
    "version": 3
   },
   "file_extension": ".py",
   "mimetype": "text/x-python",
   "name": "python",
   "nbconvert_exporter": "python",
   "pygments_lexer": "ipython3",
   "version": "3.7.9"
  }
 },
 "nbformat": 4,
 "nbformat_minor": 2
}
